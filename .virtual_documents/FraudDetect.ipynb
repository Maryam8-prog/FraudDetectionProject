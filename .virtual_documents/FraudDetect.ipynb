import pandas as pd
import matplotlib.pyplot as plt
import seaborn as sns

# Load the dataset
df = pd.read_csv(r"C:\Users\dell\Downloads\archive\creditcard.csv") 

# Explore the data
print(df.head())
print(df.info())
print(df.isnull().sum())


# Check number of rows and columns
print("Shape of dataset:", df.shape)  

# Display column names and data types
print("\nColumn Information:")
print(df.info())

# Check summary statistics
print("\nSummary Statistics:")
print(df.describe())  



import pandas as pd
df = pd.read_csv(r"C:\Users\dell\Downloads\archive\creditcard.csv") 
print(df.head())


# Check for missing values
missing_values = df.isnull().sum()
print(missing_values[missing_values > 0])  # Show only columns with missing values





df['Class'].value_counts()



import seaborn as sns  
import matplotlib.pyplot as plt  

# Count occurrences of each class (0 = Not Fraud, 1 = Fraud)
sns.countplot(x=df['Class'])
plt.title("Distribution of Fraud vs. Non-Fraud Transactions")
plt.show()

# Print actual counts
print(df['Class'].value_counts())



# Check for duplicate rows
print("Duplicate Rows:", df.duplicated().sum())

# Remove duplicates if needed
df = df.drop_duplicates()





# Box plot to check for outliers in 'Amount' column
sns.boxplot(x=df['Amount'])
plt.show()



import pandas as pd

# Display summary statistics
print(df['Amount'].describe())



from sklearn.preprocessing import StandardScaler  

# Standardize the 'Amount' and 'Time' columns
scaler = StandardScaler()
df[['Amount', 'Time']] = scaler.fit_transform(df[['Amount', 'Time']])

# Check new values
df.head()



import seaborn as sns
import matplotlib.pyplot as plt

sns.boxplot(data=df, x='Amount')  # Check distribution of 'Amount'
plt.show()



Q1 = df['Amount'].quantile(0.25)  # First quartile (25%)
Q3 = df['Amount'].quantile(0.75)  # Third quartile (75%)
IQR = Q3 - Q1  # Interquartile Range

# Outliers are values below (Q1 - 1.5 * IQR) or above (Q3 + 1.5 * IQR)
lower_bound = Q1 - 1.5 * IQR
upper_bound = Q3 + 1.5 * IQR

# Count outliers
outliers = df[(df['Amount'] < lower_bound) | (df['Amount'] > upper_bound)]
outlier_percentage = (len(outliers) / len(df)) * 100

print(f"Percentage of outliers in 'Amount': {outlier_percentage:.2f}%")




