import pandas as pd
import matplotlib.pyplot as plt
import seaborn as sns

# Load the dataset
df = pd.read_csv(r"C:\Users\dell\Downloads\archive\creditcard.csv") 

# Explore the data
print(df.head())
print(df.info())
print(df.isnull().sum())


# Check number of rows and columns
print("Shape of dataset:", df.shape)  

# Display column names and data types
print("\nColumn Information:")
print(df.info())

# Check summary statistics
print("\nSummary Statistics:")
print(df.describe())  



import pandas as pd
df = pd.read_csv(r"C:\Users\dell\Downloads\archive\creditcard.csv") 
print(df.head())


# Check for missing values
missing_values = df.isnull().sum()
print(missing_values[missing_values > 0])  # Show only columns with missing values





df['Class'].value_counts()



import seaborn as sns  
import matplotlib.pyplot as plt  

# Count occurrences of each class (0 = Not Fraud, 1 = Fraud)
sns.countplot(x=df['Class'])
plt.title("Distribution of Fraud vs. Non-Fraud Transactions")
plt.show()

# Print actual counts
print(df['Class'].value_counts())




